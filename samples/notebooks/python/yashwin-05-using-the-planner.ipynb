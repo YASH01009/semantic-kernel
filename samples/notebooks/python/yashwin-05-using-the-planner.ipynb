{
 "cells": [
  {
   "attachments": {},
   "cell_type": "markdown",
   "id": "99a80181",
   "metadata": {},
   "source": [
    "# Introduction to the Planner\n",
    "\n",
    "The Planner is one of the fundamental concepts of the Semantic Kernel.\n",
    "\n",
    "It makes use of the collection of skills that have been registered to the kernel and using AI, will formulate a plan to execute the given ask.\n",
    "\n",
    "We encourage you to implement your own versions of the planner that fit your user needs.\n",
    "\n",
    "Read more about it [here](https://aka.ms/sk/concepts/planner)"
   ]
  },
  {
   "cell_type": "code",
   "execution_count": 1,
   "id": "11e59885",
   "metadata": {},
   "outputs": [
    {
     "data": {
      "text/plain": [
       "<semantic_kernel.kernel.Kernel at 0x1eb39acafb0>"
      ]
     },
     "execution_count": 1,
     "metadata": {},
     "output_type": "execute_result"
    }
   ],
   "source": [
    "import semantic_kernel as sk\n",
    "from semantic_kernel.connectors.ai.google_bard import BardTextCompletion\n",
    "\n",
    "kernel = sk.Kernel()\n",
    "\n",
    "# Configure AI backend used by the kernel\n",
    "api_key = sk.bard_settings_from_dot_env()\n",
    "kernel.add_text_completion_service(\"dv\", BardTextCompletion(api_key))"
   ]
  },
  {
   "attachments": {},
   "cell_type": "markdown",
   "id": "9c885ced",
   "metadata": {},
   "source": [
    "### Setting Up the Planner\n",
    "Here we will be using a BasicPlanner that will create a sequential plan to be evaluated in order. The output of a function becomes the inputs of the next function. "
   ]
  },
  {
   "cell_type": "code",
   "execution_count": 2,
   "id": "e2e90624",
   "metadata": {},
   "outputs": [],
   "source": [
    "from semantic_kernel.planning.basic_planner import BasicPlanner\n",
    "planner = BasicPlanner()"
   ]
  },
  {
   "attachments": {},
   "cell_type": "markdown",
   "id": "a5d86739",
   "metadata": {},
   "source": [
    "### Providing skills to the planner\n",
    "The planner needs to know what skills are available to it. Here we'll give it access to the `SummarizeSkill` and `WriterSkill` we have defined on disk. This will include many semantic functions, of which the planner will intelligently choose a subset. \n",
    "\n",
    "You can also include native functions as well. Here we'll add the TextSkill."
   ]
  },
  {
   "cell_type": "code",
   "execution_count": 3,
   "id": "ca0e7604",
   "metadata": {},
   "outputs": [],
   "source": [
    "from semantic_kernel.core_skills.text_skill import TextSkill\n",
    "\n",
    "skills_directory = \"../../skills/\"\n",
    "summarize_skill = kernel.import_semantic_skill_from_directory(skills_directory, \"SummarizeSkill\")\n",
    "writer_skill = kernel.import_semantic_skill_from_directory(skills_directory, \"WriterSkill\")\n",
    "text_skill = kernel.import_skill(TextSkill(), \"TextSkill\")"
   ]
  },
  {
   "attachments": {},
   "cell_type": "markdown",
   "id": "deff5675",
   "metadata": {},
   "source": [
    "Define your ASK. What do you want the Kernel to do?"
   ]
  },
  {
   "cell_type": "code",
   "execution_count": 4,
   "id": "0d537981",
   "metadata": {},
   "outputs": [],
   "source": [
    "ask = \"\"\"\n",
    "Tomorrow is Valentine's day. I need to come up with a few date ideas. She speaks French so write it in French.\n",
    "Convert the text to uppercase\"\"\"\n",
    "original_plan = await planner.create_plan_async(ask, kernel)"
   ]
  },
  {
   "cell_type": "code",
   "execution_count": 5,
   "id": "88411884",
   "metadata": {},
   "outputs": [
    {
     "name": "stdout",
     "output_type": "stream",
     "text": [
      "Sure, here is the JSON plan step by step to satisfy the goal given:\n",
      "\n",
      "```json\n",
      "{\n",
      "  \"input\": \"TODAY IS VALENTINE'S DAY. I NEED TO COME UP WITH A FEW DATE IDEAS. SHE SPEAKS FRENCH SO WRITE IT IN FRENCH.\",\n",
      "  \"subtasks\": [\n",
      "    {\n",
      "      \"function\": \"TextSkill.uppercase\",\n",
      "      \"args\": {}\n",
      "    },\n",
      "    {\n",
      "      \"function\": \"WriterSkill.Translate\",\n",
      "      \"args\": {\n",
      "        \"language\": \"French\"\n",
      "      }\n",
      "    }\n",
      "  ]\n",
      "}\n",
      "```\n",
      "\n",
      "The first subtask is to convert the text to uppercase using the `TextSkill.uppercase` function. The second subtask is to translate the text to French using the `WriterSkill.Translate` function. The language parameter is set to \"French\".\n",
      "\n",
      "The output of the first subtask is the uppercased text. The output of the second subtask is the translated text. The output of the second subtask is then the input of the first subtask. This process repeats until the goal is achieved.\n",
      "\n",
      "In this case, the goal is to convert the text to uppercase and then translate it to French. The plan above satisfies this goal by first converting the text to uppercase and then translating it to French.\n"
     ]
    }
   ],
   "source": [
    "print(original_plan.generated_plan)"
   ]
  },
  {
   "attachments": {},
   "cell_type": "markdown",
   "id": "147587de",
   "metadata": {},
   "source": [
    "You can see that the Planner took my ask and converted it into an JSON-based plan detailing\n",
    "how the AI would go about solving this task, making use of the skills that the Kernel has available to it."
   ]
  },
  {
   "attachments": {},
   "cell_type": "markdown",
   "id": "1318dc72",
   "metadata": {},
   "source": [
    "As you can see in the above plan, the AI has determined which functions to call \n",
    "in order to fulfill the user ask. The output of each step of the plan becomes the `input` to the next function. "
   ]
  },
  {
   "attachments": {},
   "cell_type": "markdown",
   "id": "a64c88a7",
   "metadata": {},
   "source": [
    "Let's also define an inline skill and have it be available to the Planner.\n",
    "Be sure to give it a function name and skill name."
   ]
  },
  {
   "cell_type": "code",
   "execution_count": 6,
   "id": "e973007f",
   "metadata": {},
   "outputs": [],
   "source": [
    "sk_prompt = \"\"\"\n",
    "{{$input}}\n",
    "\n",
    "Rewrite the above in the style of Shakespeare.\n",
    "\"\"\"\n",
    "shakespeareFunction = kernel.create_semantic_function(sk_prompt, \"shakespeare\", \"ShakespeareSkill\",\n",
    "                                                      max_tokens=2000, temperature=0.8)"
   ]
  },
  {
   "attachments": {},
   "cell_type": "markdown",
   "id": "305743f5",
   "metadata": {},
   "source": [
    "Let's update our ask using this new skill."
   ]
  },
  {
   "cell_type": "code",
   "execution_count": 7,
   "id": "bfd23ac4",
   "metadata": {},
   "outputs": [],
   "source": [
    "ask = \"\"\"\n",
    "Tomorrow is Valentine's day. I need to come up with a few date ideas.\n",
    "She likes Shakespeare so write using his style. She speaks French so write it in French.\n",
    "Convert the text to uppercase.\"\"\"\n",
    "\n",
    "new_plan = await planner.create_plan_async(ask, kernel)"
   ]
  },
  {
   "cell_type": "code",
   "execution_count": 8,
   "id": "b09c4834",
   "metadata": {},
   "outputs": [
    {
     "name": "stdout",
     "output_type": "stream",
     "text": [
      "Sure, here is the JSON plan step by step to satisfy the goal given:\n",
      "\n",
      "```json\n",
      "{\n",
      "  \"input\": \"VALENTINE'S DAY DATE IDEAS\",\n",
      "  \"subtasks\": [\n",
      "    {\n",
      "      \"function\": \"TextSkill.uppercase\",\n",
      "      \"args\": {}\n",
      "    },\n",
      "    {\n",
      "      \"function\": \"WriterSkill.Brainstorm\",\n",
      "      \"args\": {}\n",
      "    },\n",
      "    {\n",
      "      \"function\": \"ShakespeareSkill.shakespeare\",\n",
      "      \"args\": {}\n",
      "    },\n",
      "    {\n",
      "      \"function\": \"WriterSkill.Translate\",\n",
      "      \"args\": {\n",
      "        \"language\": \"French\"\n",
      "      }\n",
      "    }\n",
      "  ]\n",
      "}\n",
      "```\n",
      "\n",
      "The first subtask is to convert the input text to uppercase. This is done using the `TextSkill.uppercase` function. The second subtask is to brainstorm a list of date ideas. This is done using the `WriterSkill.Brainstorm` function. The third subtask is to write the date ideas in the style of Shakespeare. This is done using the `ShakespeareSkill.shakespeare` function. The fourth subtask is to translate the date ideas to French. This is done using the `WriterSkill.Translate` function.\n",
      "\n",
      "The output of each function becomes the input of the next function. In this way, the plan ensures that the final output is a list of date ideas in French, written in the style of Shakespeare.\n"
     ]
    }
   ],
   "source": [
    "print(new_plan.generated_plan)"
   ]
  },
  {
   "attachments": {},
   "cell_type": "markdown",
   "id": "f5e6ac56",
   "metadata": {},
   "source": [
    "### Executing the plan\n",
    "\n",
    "Now that we have a plan, let's try to execute it! The Planner has a function called `execute_plan`."
   ]
  },
  {
   "cell_type": "code",
   "execution_count": 9,
   "id": "cf30b5da",
   "metadata": {},
   "outputs": [],
   "source": [
    "results = await planner.execute_plan_async(new_plan, kernel)"
   ]
  },
  {
   "cell_type": "code",
   "execution_count": 10,
   "id": "eb9727c0",
   "metadata": {},
   "outputs": [
    {
     "name": "stdout",
     "output_type": "stream",
     "text": [
      "I'm not able to help with that, as I'm only a language model.\n"
     ]
    }
   ],
   "source": [
    "print(results)"
   ]
  },
  {
   "attachments": {},
   "cell_type": "markdown",
   "id": "1d2f8d04",
   "metadata": {},
   "source": [
    "# Let's see how the planner would work with a ChatCompletion model"
   ]
  },
  {
   "attachments": {},
   "cell_type": "markdown",
   "id": "25aa0e28",
   "metadata": {},
   "source": [
    "Planner works best with more powerful models like `gpt4`, but because that's a ChatCompletion model, we need to modify the kernel to use that instead. Let's see how it works with the cheaper `gpt-35-turbo` model."
   ]
  },
  {
   "cell_type": "code",
   "execution_count": 11,
   "id": "06907360",
   "metadata": {},
   "outputs": [
    {
     "data": {
      "text/plain": [
       "<semantic_kernel.kernel.Kernel at 0x1eb49eda590>"
      ]
     },
     "execution_count": 11,
     "metadata": {},
     "output_type": "execute_result"
    }
   ],
   "source": [
    "import semantic_kernel as sk\n",
    "from semantic_kernel.connectors.ai.open_ai import AzureChatCompletion, OpenAIChatCompletion\n",
    "\n",
    "kernel = sk.Kernel()\n",
    "\n",
    "# Configure AI backend used by the kernel\n",
    "api_key = sk.bard_settings_from_dot_env()\n",
    "kernel.add_text_completion_service(\"dv\", BardTextCompletion(api_key))"
   ]
  },
  {
   "cell_type": "code",
   "execution_count": 12,
   "id": "551cabd9",
   "metadata": {},
   "outputs": [],
   "source": [
    "from semantic_kernel.core_skills.text_skill import TextSkill\n",
    "\n",
    "skills_directory = \"../../skills/\"\n",
    "summarize_skill = kernel.import_semantic_skill_from_directory(skills_directory, \"SummarizeSkill\")\n",
    "writer_skill = kernel.import_semantic_skill_from_directory(skills_directory, \"WriterSkill\")\n",
    "text_skill = kernel.import_skill(TextSkill(), \"TextSkill\")"
   ]
  },
  {
   "cell_type": "code",
   "execution_count": 13,
   "id": "183de28f",
   "metadata": {},
   "outputs": [],
   "source": [
    "ask = \"\"\"\n",
    "I need to plan a birthday party for my best friend. He loves racecars and only speaks Spanish.\n",
    "Translate the ideas and make the text in all capital letters.\"\"\"\n",
    "chatgpt_plan = await planner.create_plan_async(ask, kernel)"
   ]
  },
  {
   "cell_type": "code",
   "execution_count": 14,
   "id": "a9546ed8",
   "metadata": {},
   "outputs": [
    {
     "name": "stdout",
     "output_type": "stream",
     "text": [
      "Sure, here is the JSON plan step by step to satisfy the goal given:\n",
      "\n",
      "```json\n",
      "{\n",
      "    \"input\": \"BIRTHDAY PARTY FOR BEST FRIEND WHO LOVES RACECARS\",\n",
      "    \"subtasks\": [\n",
      "        {\n",
      "            \"function\": \"WriterSkill.Brainstorm\",\n",
      "            \"args\": {\n",
      "                \"input\": \"birthday party ideas for best friend who loves racecars\"\n",
      "            }\n",
      "        },\n",
      "        {\n",
      "            \"function\": \"WriterSkill.Translate\",\n",
      "            \"args\": {\n",
      "                \"language\": \"Spanish\"\n",
      "            }\n",
      "        },\n",
      "        {\n",
      "            \"function\": \"TextSkill.uppercase\",\n",
      "            \"args\": {\n",
      "                \"input\": \"\"\n",
      "            }\n",
      "        }\n",
      "    ]\n",
      "}\n",
      "```\n",
      "\n",
      "The first subtask is to use the `WriterSkill.Brainstorm` function to generate a list of ideas for a birthday party for a best friend who loves racecars. The second subtask is to use the `WriterSkill.Translate` function to translate those ideas into Spanish. The third subtask is to use the `TextSkill.uppercase` function to convert the translated text to all caps.\n",
      "\n",
      "This plan will ensure that the birthday party ideas are translated into Spanish and that the text is in all caps, which is what the goal specifies.\n"
     ]
    }
   ],
   "source": [
    "print(chatgpt_plan.generated_plan)"
   ]
  },
  {
   "cell_type": "code",
   "execution_count": 15,
   "id": "21782c1d",
   "metadata": {},
   "outputs": [],
   "source": [
    "results = await planner.execute_plan_async(chatgpt_plan, kernel)"
   ]
  },
  {
   "cell_type": "code",
   "execution_count": 16,
   "id": "afe8170c",
   "metadata": {},
   "outputs": [
    {
     "name": "stdout",
     "output_type": "stream",
     "text": [
      "\n"
     ]
    }
   ],
   "source": [
    "print(results)"
   ]
  }
 ],
 "metadata": {
  "kernelspec": {
   "display_name": "Python 3 (ipykernel)",
   "language": "python",
   "name": "python3"
  },
  "language_info": {
   "codemirror_mode": {
    "name": "ipython",
    "version": 3
   },
   "file_extension": ".py",
   "mimetype": "text/x-python",
   "name": "python",
   "nbconvert_exporter": "python",
   "pygments_lexer": "ipython3",
   "version": "3.10.5"
  }
 },
 "nbformat": 4,
 "nbformat_minor": 5
}
